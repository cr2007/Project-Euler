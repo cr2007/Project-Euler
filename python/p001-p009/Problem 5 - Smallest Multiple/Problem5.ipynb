{
 "cells": [
  {
   "cell_type": "markdown",
   "metadata": {},
   "source": [
    "# [Problem](https://projecteuler.net/problem=5) No. 5\n",
    "\n",
    "## Smallest Multiple\n",
    "\n",
    "2520 is the smallest number that can be divided by each of the numbers from 1 to 10 without any remainder.\n",
    "\n",
    "What is the smallest positive number that is evenly divisible by all of the numbers from 1 to 20?"
   ]
  },
  {
   "cell_type": "markdown",
   "metadata": {},
   "source": [
    "<!-- Sketching -->\n",
    "\n",
    "First problem\n",
    "| Number | Factors |\n",
    "| ------ | ------- |\n",
    "| 10 | 1, 2, 5 |\n",
    "| 9 | 1, **3** |\n",
    "| 8 | 1, ***2***, ***4*** |\n",
    "| 7 | 1, 7 |\n",
    "| 6 | 1, 2, 3 |\n",
    "| 5 | 1, 5 |\n",
    "| 4 | 1, 2 |\n",
    "| 3 | 1, 3 |\n",
    "| 2 | 1, 2 |"
   ]
  },
  {
   "cell_type": "markdown",
   "metadata": {},
   "source": [
    "| Number | Factors |\n",
    "| ------ | ------- |\n",
    "| 20 | 1, 2, 4, 5, 10 |\n",
    "| 19 | 1, 19 |\n",
    "| 18 | 1, 2, 3, 6, 9 |\n",
    "| 17 | 1, 17 |\n",
    "| 16 | 1, 2, 4 8 |\n",
    "| 15 | 1, 3, 5 |\n",
    "| 14 | 1, 2, 7 |\n",
    "| 13 | 1, 13 |\n",
    "| 12 | 1, 2, 3, 4, 6 |\n",
    "| 11 | 1, 11 |"
   ]
  },
  {
   "cell_type": "code",
   "execution_count": 6,
   "metadata": {},
   "outputs": [],
   "source": [
    "import math\n",
    "\n",
    "def lcm(a: int, b: int):\n",
    "    \"\"\"Return the least common multiple of a and b\"\"\"\n",
    "    return abs(a * b) // math.gcd(a, b)"
   ]
  },
  {
   "cell_type": "code",
   "execution_count": 14,
   "metadata": {},
   "outputs": [],
   "source": [
    "def smallest_multiple(val: int):\n",
    "\tnumbers = range(1, val + 1)\n",
    "\tlcm_result = numbers[0]\n",
    "\n",
    "\tfor n in numbers[1:]:\n",
    "\t\tlcm_result = lcm(lcm_result, n)\n",
    "\n",
    "\treturn lcm_result"
   ]
  },
  {
   "cell_type": "code",
   "execution_count": 15,
   "metadata": {},
   "outputs": [
    {
     "data": {
      "text/plain": [
       "2520"
      ]
     },
     "execution_count": 15,
     "metadata": {},
     "output_type": "execute_result"
    }
   ],
   "source": [
    "smallest_multiple(10)"
   ]
  },
  {
   "cell_type": "code",
   "execution_count": 16,
   "metadata": {},
   "outputs": [
    {
     "data": {
      "text/plain": [
       "232792560"
      ]
     },
     "execution_count": 16,
     "metadata": {},
     "output_type": "execute_result"
    }
   ],
   "source": [
    "smallest_multiple(20)"
   ]
  }
 ],
 "metadata": {
  "kernelspec": {
   "display_name": "Python 3",
   "language": "python",
   "name": "python3"
  },
  "language_info": {
   "codemirror_mode": {
    "name": "ipython",
    "version": 3
   },
   "file_extension": ".py",
   "mimetype": "text/x-python",
   "name": "python",
   "nbconvert_exporter": "python",
   "pygments_lexer": "ipython3",
   "version": "3.12.3"
  }
 },
 "nbformat": 4,
 "nbformat_minor": 2
}
