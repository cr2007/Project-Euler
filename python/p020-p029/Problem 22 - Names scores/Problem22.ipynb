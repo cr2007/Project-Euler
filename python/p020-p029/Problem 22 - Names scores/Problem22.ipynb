{
 "cells": [
  {
   "cell_type": "markdown",
   "metadata": {},
   "source": [
    "# [Problem](https://projecteuler.net/problem=22) No. 22\n",
    "\n",
    "## Names scores\n",
    "\n",
    "Using [names.txt](./p022_names.txt), a 46K text file containing over five-thousand first names, begin by sorting it into alphabetical order.<br>\n",
    "Then working out the alphabetical value for each name, multiply this value by its alphabetical position in the list to obtain a name score.\n",
    "\n",
    "For example, when the list is sorted into alphabetical order, COLIN, which is worth $3 + 15 + 12 + 9 + 14 = 53$, is the $938^{\\text{th}}$ name in the list.<br>\n",
    "So, COLIN would obtain a score of $938 \\times 53 = 49714$.\n",
    "\n",
    "What is the total of all the name scores in the file?"
   ]
  },
  {
   "cell_type": "code",
   "execution_count": 1,
   "metadata": {},
   "outputs": [],
   "source": [
    "import string"
   ]
  },
  {
   "cell_type": "code",
   "execution_count": 2,
   "metadata": {},
   "outputs": [],
   "source": [
    "# Open the file 'p022_names.txt' in read mode\n",
    "with open('p022_names.txt', 'r') as file:\n",
    "    # Read the entire content of the file\n",
    "    # Split the content into a list of names using comma as the separator\n",
    "    # For each name in the list, remove the double quotes\n",
    "    # Store the cleaned names in the list 'first_names'\n",
    "    first_names = [name.strip('\"') for name in file.read().split(',')]"
   ]
  },
  {
   "cell_type": "code",
   "execution_count": 3,
   "metadata": {},
   "outputs": [
    {
     "data": {
      "text/plain": [
       "5163"
      ]
     },
     "execution_count": 3,
     "metadata": {},
     "output_type": "execute_result"
    }
   ],
   "source": [
    "len(first_names)"
   ]
  },
  {
   "cell_type": "code",
   "execution_count": 4,
   "metadata": {},
   "outputs": [],
   "source": [
    "first_names.sort()"
   ]
  },
  {
   "cell_type": "code",
   "execution_count": 5,
   "metadata": {},
   "outputs": [],
   "source": [
    "letter_values = {\n",
    "    letter:index\n",
    "    for index, letter\n",
    "    in enumerate(string.ascii_uppercase, start=1)\n",
    "    }"
   ]
  },
  {
   "cell_type": "code",
   "execution_count": 6,
   "metadata": {},
   "outputs": [],
   "source": [
    "def get_alphabetic_value(name: str) -> int:\n",
    "\treturn sum( letter_values[letter] for letter in name )"
   ]
  },
  {
   "cell_type": "code",
   "execution_count": 7,
   "metadata": {},
   "outputs": [
    {
     "name": "stdout",
     "output_type": "stream",
     "text": [
      "53\n",
      "938\n"
     ]
    },
    {
     "data": {
      "text/plain": [
       "49714"
      ]
     },
     "execution_count": 7,
     "metadata": {},
     "output_type": "execute_result"
    }
   ],
   "source": [
    "print(get_alphabetic_value(\"COLIN\"))\n",
    "print(first_names.index(\"COLIN\") + 1)\n",
    "get_alphabetic_value(\"COLIN\") * (first_names.index(\"COLIN\")+1)"
   ]
  },
  {
   "cell_type": "code",
   "execution_count": 8,
   "metadata": {},
   "outputs": [],
   "source": [
    "total_value = sum(get_alphabetic_value(name) * (index + 1) for index, name in enumerate(first_names))"
   ]
  },
  {
   "cell_type": "code",
   "execution_count": 9,
   "metadata": {},
   "outputs": [
    {
     "data": {
      "text/plain": [
       "871198282"
      ]
     },
     "execution_count": 9,
     "metadata": {},
     "output_type": "execute_result"
    }
   ],
   "source": [
    "total_value"
   ]
  }
 ],
 "metadata": {
  "kernelspec": {
   "display_name": "Python 3",
   "language": "python",
   "name": "python3"
  },
  "language_info": {
   "codemirror_mode": {
    "name": "ipython",
    "version": 3
   },
   "file_extension": ".py",
   "mimetype": "text/x-python",
   "name": "python",
   "nbconvert_exporter": "python",
   "pygments_lexer": "ipython3",
   "version": "3.12.1"
  }
 },
 "nbformat": 4,
 "nbformat_minor": 2
}
